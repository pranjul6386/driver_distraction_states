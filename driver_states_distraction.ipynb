{
  "nbformat": 4,
  "nbformat_minor": 0,
  "metadata": {
    "kernelspec": {
      "name": "python3",
      "display_name": "Python 3",
      "language": "python"
    },
    "language_info": {
      "name": "python",
      "version": "3.7.6",
      "mimetype": "text/x-python",
      "codemirror_mode": {
        "name": "ipython",
        "version": 3
      },
      "pygments_lexer": "ipython3",
      "nbconvert_exporter": "python",
      "file_extension": ".py"
    },
    "colab": {
      "name": "driver_states_distraction.ipynb",
      "provenance": [],
      "collapsed_sections": [],
      "include_colab_link": true
    }
  },
  "cells": [
    {
      "cell_type": "markdown",
      "metadata": {
        "id": "view-in-github",
        "colab_type": "text"
      },
      "source": [
        "<a href=\"https://colab.research.google.com/github/pranjul6386/driver_distraction_states/blob/master/driver_states_distraction.ipynb\" target=\"_parent\"><img src=\"https://colab.research.google.com/assets/colab-badge.svg\" alt=\"Open In Colab\"/></a>"
      ]
    },
    {
      "cell_type": "code",
      "metadata": {
        "_uuid": "8f2839f25d086af736a60e9eeb907d3b93b6e0e5",
        "_cell_guid": "b1076dfc-b9ad-4769-8c92-a6c4dae69d19",
        "trusted": true,
        "id": "i6s9dU_wC9-X",
        "colab_type": "code",
        "colab": {},
        "outputId": "828bd931-f770-49f2-91e2-37f242ad45f7"
      },
      "source": [
        "# This Python 3 environment comes with many helpful analytics libraries installed\n",
        "# It is defined by the kaggle/python Docker image: https://github.com/kaggle/docker-python\n",
        "# For example, here's several helpful packages to load\n",
        "\n",
        "import numpy as np # linear algebra\n",
        "import pandas as pd # data processing, CSV file I/O (e.g. pd.read_csv)\n",
        "\n",
        "# Input data files are available in the read-only \"../input/\" directory\n",
        "# For example, running this (by clicking run or pressing Shift+Enter) will list all files under the input directory\n",
        "\n",
        "import os\n",
        "for dirname, _, filenames in os.walk('/kaggle/input'):\n",
        "    \n",
        "    for filename in filenames:\n",
        "        print(os.path.join(dirname, filename))\n",
        "\n",
        "# You can write up to 5GB to the current directory (/kaggle/working/) that gets preserved as output when you create a version using \"Save & Run All\" \n",
        "# You can also write temporary files to /kaggle/temp/, but they won't be saved outside of the current session"
      ],
      "execution_count": null,
      "outputs": [
        {
          "output_type": "stream",
          "text": [
            "/kaggle/input/distracted-driver-detection/__results__.html\n",
            "/kaggle/input/distracted-driver-detection/weights.h5\n",
            "/kaggle/input/distracted-driver-detection/model.json\n",
            "/kaggle/input/distracted-driver-detection/__notebook__.ipynb\n",
            "/kaggle/input/distracted-driver-detection/custom.css\n",
            "/kaggle/input/distracted-driver-detection/__output__.json\n"
          ],
          "name": "stdout"
        }
      ]
    },
    {
      "cell_type": "code",
      "metadata": {
        "_uuid": "d629ff2d2480ee46fbb7e2d37f6b5fab8052498a",
        "_cell_guid": "79c7e3d0-c299-4dcb-8224-4455121ee9b0",
        "trusted": true,
        "id": "XlmZzb8_C9-k",
        "colab_type": "code",
        "colab": {}
      },
      "source": [
        "from glob import glob\n",
        "import random\n",
        "import os\n",
        "import time\n",
        "import tensorflow\n",
        "import datetime\n",
        "os.environ['KERAS_BACKEND'] = 'tensorflow'\n",
        "os.environ['TF_CPP_MIN_LOG_LEVEL'] = '3' # 3 = INFO, WARNING, and ERROR messages are not printed\n",
        "\n",
        "from tqdm import tqdm\n",
        "\n",
        "import numpy as np\n",
        "import pandas as pd\n",
        "from IPython.display import FileLink\n",
        "import matplotlib.pyplot as plt\n",
        "import warnings\n",
        "warnings.filterwarnings('ignore')\n",
        "import seaborn as sns \n",
        "%matplotlib inline\n",
        "from IPython.display import display, Image\n",
        "import matplotlib.image as mpimg\n",
        "import cv2\n",
        "\n",
        "from sklearn.model_selection import train_test_split\n",
        "from sklearn.datasets import load_files       \n",
        "from keras.utils import np_utils\n",
        "from sklearn.utils import shuffle\n",
        "from sklearn.metrics import log_loss\n",
        "\n",
        "from keras.models import Sequential, Model\n",
        "from keras.layers import Conv2D, MaxPooling2D, Flatten, Dense, Dropout, BatchNormalization, GlobalAveragePooling2D\n",
        "from keras.preprocessing.image import ImageDataGenerator\n",
        "from keras.preprocessing import image\n",
        "from keras.callbacks import ModelCheckpoint, EarlyStopping\n",
        "from keras.applications.vgg16 import VGG16"
      ],
      "execution_count": null,
      "outputs": []
    },
    {
      "cell_type": "code",
      "metadata": {
        "trusted": true,
        "id": "I91P_R8UC9-s",
        "colab_type": "code",
        "colab": {},
        "outputId": "a301c9d7-1a49-4992-f543-40ab1826dd10"
      },
      "source": [
        "dataset = pd.read_csv('../input/state-farm-distracted-driver-detection/driver_imgs_list.csv')\n",
        "dataset.head(5)\n"
      ],
      "execution_count": null,
      "outputs": [
        {
          "output_type": "execute_result",
          "data": {
            "text/plain": [
              "  subject classname            img\n",
              "0    p002        c0  img_44733.jpg\n",
              "1    p002        c0  img_72999.jpg\n",
              "2    p002        c0  img_25094.jpg\n",
              "3    p002        c0  img_69092.jpg\n",
              "4    p002        c0  img_92629.jpg"
            ],
            "text/html": [
              "<div>\n",
              "<style scoped>\n",
              "    .dataframe tbody tr th:only-of-type {\n",
              "        vertical-align: middle;\n",
              "    }\n",
              "\n",
              "    .dataframe tbody tr th {\n",
              "        vertical-align: top;\n",
              "    }\n",
              "\n",
              "    .dataframe thead th {\n",
              "        text-align: right;\n",
              "    }\n",
              "</style>\n",
              "<table border=\"1\" class=\"dataframe\">\n",
              "  <thead>\n",
              "    <tr style=\"text-align: right;\">\n",
              "      <th></th>\n",
              "      <th>subject</th>\n",
              "      <th>classname</th>\n",
              "      <th>img</th>\n",
              "    </tr>\n",
              "  </thead>\n",
              "  <tbody>\n",
              "    <tr>\n",
              "      <th>0</th>\n",
              "      <td>p002</td>\n",
              "      <td>c0</td>\n",
              "      <td>img_44733.jpg</td>\n",
              "    </tr>\n",
              "    <tr>\n",
              "      <th>1</th>\n",
              "      <td>p002</td>\n",
              "      <td>c0</td>\n",
              "      <td>img_72999.jpg</td>\n",
              "    </tr>\n",
              "    <tr>\n",
              "      <th>2</th>\n",
              "      <td>p002</td>\n",
              "      <td>c0</td>\n",
              "      <td>img_25094.jpg</td>\n",
              "    </tr>\n",
              "    <tr>\n",
              "      <th>3</th>\n",
              "      <td>p002</td>\n",
              "      <td>c0</td>\n",
              "      <td>img_69092.jpg</td>\n",
              "    </tr>\n",
              "    <tr>\n",
              "      <th>4</th>\n",
              "      <td>p002</td>\n",
              "      <td>c0</td>\n",
              "      <td>img_92629.jpg</td>\n",
              "    </tr>\n",
              "  </tbody>\n",
              "</table>\n",
              "</div>"
            ]
          },
          "metadata": {
            "tags": []
          },
          "execution_count": 3
        }
      ]
    },
    {
      "cell_type": "code",
      "metadata": {
        "trusted": true,
        "id": "IdE1OvtJC9-0",
        "colab_type": "code",
        "colab": {},
        "outputId": "17232b19-5055-49e0-bb60-c25008db0228"
      },
      "source": [
        "drivers = dataset.groupby('subject')\n",
        "unique_drivers = drivers.groups.keys()\n",
        "print(unique_drivers)"
      ],
      "execution_count": null,
      "outputs": [
        {
          "output_type": "stream",
          "text": [
            "dict_keys(['p002', 'p012', 'p014', 'p015', 'p016', 'p021', 'p022', 'p024', 'p026', 'p035', 'p039', 'p041', 'p042', 'p045', 'p047', 'p049', 'p050', 'p051', 'p052', 'p056', 'p061', 'p064', 'p066', 'p072', 'p075', 'p081'])\n"
          ],
          "name": "stdout"
        }
      ]
    },
    {
      "cell_type": "code",
      "metadata": {
        "trusted": true,
        "id": "_phT5c_lC9_A",
        "colab_type": "code",
        "colab": {}
      },
      "source": [
        "def load_image(path, img_rows, img_cols, channels=3):\n",
        "    # Loading as Grayscale image\n",
        "    if color_type == 1:\n",
        "        img = cv2.imread(path, cv2.IMREAD_GRAYSCALE)\n",
        "    elif color_type == 3:\n",
        "        img = cv2.imread(path, cv2.IMREAD_COLOR)\n",
        "    # Reduce size\n",
        "    img = cv2.resize(img, (img_rows, img_cols)) \n",
        "\n",
        "    return img"
      ],
      "execution_count": null,
      "outputs": []
    },
    {
      "cell_type": "code",
      "metadata": {
        "trusted": true,
        "id": "WTgghxosC9_H",
        "colab_type": "code",
        "colab": {}
      },
      "source": [
        "num_classes=10\n",
        "def load_train_images(img_rows,img_clos,channels):\n",
        "    start_time=time.time()\n",
        "    train_imgs=[]\n",
        "    train_labels=[]\n",
        "    for classes in tqdm(range(num_classes)):\n",
        "        print(\"loading directory:c{}\".format(classes))\n",
        "        files = glob(os.path.join('..', 'input','state-farm-distracted-driver-detection','imgs','train', 'c' + str(classes), '*.jpg'))\n",
        "        for file in files:\n",
        "            img=load_image(file,img_rows,img_cols,channels)\n",
        "            train_imgs.append(img)\n",
        "            train_labels.append(classes)\n",
        "        print(\"data loaded in {} seconds\".format(time.time()-start_time))\n",
        "    return train_imgs,train_labels"
      ],
      "execution_count": null,
      "outputs": []
    },
    {
      "cell_type": "code",
      "metadata": {
        "trusted": true,
        "id": "HU5N6X1LC9_O",
        "colab_type": "code",
        "colab": {}
      },
      "source": [
        "def modified_data(img_rows, img_cols, channels):\n",
        "    x,labels=load_train_images(img_rows,img_cols,channels=3)\n",
        "    y=np_utils.to_categorical(labels,10)\n",
        "    x_train,x_test,y_train,y_test=train_test_split(x, y, test_size=0.2, random_state=42)\n",
        "    x_train = np.array(x_train, dtype=np.uint8).reshape(-1,img_rows,img_cols,channels)\n",
        "    x_test = np.array(x_test, dtype=np.uint8).reshape(-1,img_rows,img_cols,channels)\n",
        "    \n",
        "    return x_train, x_test, y_train, y_test"
      ],
      "execution_count": null,
      "outputs": []
    },
    {
      "cell_type": "code",
      "metadata": {
        "trusted": true,
        "id": "_69o-adcC9_X",
        "colab_type": "code",
        "colab": {}
      },
      "source": [
        "../input/state-farm-distracted-driver-detection/imgs/test/img_100000.jpg"
      ],
      "execution_count": null,
      "outputs": []
    },
    {
      "cell_type": "code",
      "metadata": {
        "trusted": true,
        "id": "dd8SKMsmC9_g",
        "colab_type": "code",
        "colab": {}
      },
      "source": [
        "def load_test_images(size=200000, img_rows=64, img_cols=64, channels=3):\n",
        "    path = os.path.join('..', 'input','state-farm-distracted-driver-detection','imgs','test', '*.jpg')\n",
        "    files = sorted(glob(path))\n",
        "    X_test_images=[]\n",
        "    X_test_id = []\n",
        "    total = 0\n",
        "    files_size = len(files)\n",
        "    for file in tqdm(files):\n",
        "        if total >= size or total >= files_size:\n",
        "            break\n",
        "        file_base = os.path.basename(file)\n",
        "        img = load_image(file, img_rows, img_cols, channels)\n",
        "        X_test_images.append(img)\n",
        "        X_test_id.append(file_base)\n",
        "        total += 1\n",
        "    return X_test_images, X_test_id"
      ],
      "execution_count": null,
      "outputs": []
    },
    {
      "cell_type": "code",
      "metadata": {
        "trusted": true,
        "id": "y8iu79U4C9_n",
        "colab_type": "code",
        "colab": {}
      },
      "source": [
        "def modified_test_images(size, img_rows, img_cols, channels=3):\n",
        "    test_data, test_ids = load_test_images(size, img_rows, img_cols, color_type)\n",
        "    \n",
        "    test_data = np.array(test_data, dtype=np.uint8)\n",
        "    test_data = test_data.reshape(-1,img_rows,img_cols,color_type)\n",
        "    \n",
        "    return test_data, test_ids"
      ],
      "execution_count": null,
      "outputs": []
    },
    {
      "cell_type": "code",
      "metadata": {
        "trusted": true,
        "id": "_OM43LtQC9_u",
        "colab_type": "code",
        "colab": {}
      },
      "source": [
        "img_rows = 64\n",
        "img_cols = 64\n",
        "channels = 1"
      ],
      "execution_count": null,
      "outputs": []
    },
    {
      "cell_type": "code",
      "metadata": {
        "trusted": true,
        "id": "Lf9sfSggC9_1",
        "colab_type": "code",
        "colab": {},
        "outputId": "96321ca1-8a6f-4d5e-f276-0a1b87680a73"
      },
      "source": [
        "x_train, x_test, y_train, y_test = modified_data(img_rows, img_cols, channels)\n",
        "print('Train shape:', x_train.shape)\n",
        "print(x_train.shape[0], 'train samples')"
      ],
      "execution_count": null,
      "outputs": [
        {
          "output_type": "stream",
          "text": [
            "\r  0%|          | 0/10 [00:00<?, ?it/s]"
          ],
          "name": "stderr"
        },
        {
          "output_type": "stream",
          "text": [
            "loading directory:c0\n"
          ],
          "name": "stdout"
        },
        {
          "output_type": "stream",
          "text": [
            "\r 10%|█         | 1/10 [00:07<01:03,  7.03s/it]"
          ],
          "name": "stderr"
        },
        {
          "output_type": "stream",
          "text": [
            "data loaded in 7.027673006057739 seconds\n",
            "loading directory:c1\n"
          ],
          "name": "stdout"
        },
        {
          "output_type": "stream",
          "text": [
            "\r 20%|██        | 2/10 [00:13<00:54,  6.84s/it]"
          ],
          "name": "stderr"
        },
        {
          "output_type": "stream",
          "text": [
            "data loaded in 13.436596393585205 seconds\n",
            "loading directory:c2\n"
          ],
          "name": "stdout"
        },
        {
          "output_type": "stream",
          "text": [
            "\r 30%|███       | 3/10 [00:19<00:47,  6.74s/it]"
          ],
          "name": "stderr"
        },
        {
          "output_type": "stream",
          "text": [
            "data loaded in 19.9305202960968 seconds\n",
            "loading directory:c3\n"
          ],
          "name": "stdout"
        },
        {
          "output_type": "stream",
          "text": [
            "\r 40%|████      | 4/10 [00:26<00:40,  6.71s/it]"
          ],
          "name": "stderr"
        },
        {
          "output_type": "stream",
          "text": [
            "data loaded in 26.568801164627075 seconds\n",
            "loading directory:c4\n"
          ],
          "name": "stdout"
        },
        {
          "output_type": "stream",
          "text": [
            "\r 50%|█████     | 5/10 [00:33<00:33,  6.63s/it]"
          ],
          "name": "stderr"
        },
        {
          "output_type": "stream",
          "text": [
            "data loaded in 33.0053596496582 seconds\n",
            "loading directory:c5\n"
          ],
          "name": "stdout"
        },
        {
          "output_type": "stream",
          "text": [
            "\r 60%|██████    | 6/10 [00:39<00:26,  6.66s/it]"
          ],
          "name": "stderr"
        },
        {
          "output_type": "stream",
          "text": [
            "data loaded in 39.73311710357666 seconds\n",
            "loading directory:c6\n"
          ],
          "name": "stdout"
        },
        {
          "output_type": "stream",
          "text": [
            "\r 70%|███████   | 7/10 [00:46<00:19,  6.66s/it]"
          ],
          "name": "stderr"
        },
        {
          "output_type": "stream",
          "text": [
            "data loaded in 46.39340281486511 seconds\n",
            "loading directory:c7\n"
          ],
          "name": "stdout"
        },
        {
          "output_type": "stream",
          "text": [
            "\r 80%|████████  | 8/10 [00:52<00:12,  6.36s/it]"
          ],
          "name": "stderr"
        },
        {
          "output_type": "stream",
          "text": [
            "data loaded in 52.06643271446228 seconds\n",
            "loading directory:c8\n"
          ],
          "name": "stdout"
        },
        {
          "output_type": "stream",
          "text": [
            "\r 90%|█████████ | 9/10 [00:57<00:06,  6.07s/it]"
          ],
          "name": "stderr"
        },
        {
          "output_type": "stream",
          "text": [
            "data loaded in 57.438637256622314 seconds\n",
            "loading directory:c9\n"
          ],
          "name": "stdout"
        },
        {
          "output_type": "stream",
          "text": [
            "100%|██████████| 10/10 [01:03<00:00,  6.34s/it]"
          ],
          "name": "stderr"
        },
        {
          "output_type": "stream",
          "text": [
            "data loaded in 63.35046315193176 seconds\n",
            "Train shape: (17939, 64, 64, 1)\n",
            "17939 train samples\n"
          ],
          "name": "stdout"
        },
        {
          "output_type": "stream",
          "text": [
            "\n"
          ],
          "name": "stderr"
        }
      ]
    },
    {
      "cell_type": "code",
      "metadata": {
        "trusted": true,
        "id": "qSl6762HC9_8",
        "colab_type": "code",
        "colab": {},
        "outputId": "b5d592cc-0de2-4b04-edce-ce9ce9d28f8c"
      },
      "source": [
        "nb_test_samples = 200\n",
        "test_files, test_targets = modified_test_images(nb_test_samples, img_rows, img_cols, channels)\n",
        "print('Test shape:', test_files.shape)\n",
        "print(test_files.shape[0], 'Test samples')"
      ],
      "execution_count": null,
      "outputs": [
        {
          "output_type": "stream",
          "text": [
            "  0%|          | 200/79726 [00:01<06:43, 197.23it/s]\n"
          ],
          "name": "stderr"
        },
        {
          "output_type": "stream",
          "text": [
            "Test shape: (200, 64, 64, 1)\n",
            "200 Test samples\n"
          ],
          "name": "stdout"
        }
      ]
    },
    {
      "cell_type": "code",
      "metadata": {
        "trusted": true,
        "id": "x4q0nQ4RC-AD",
        "colab_type": "code",
        "colab": {},
        "outputId": "744a5a8b-5892-43d2-e0de-199456a64352"
      },
      "source": [
        "names = [item[17:19] for item in sorted(glob(\"../input/state-farm-distracted-driver-detection/imgs/train/*/\"))]\n",
        "test_files_size = len(np.array(glob(os.path.join('..', 'input','state-farm-distracted-driver-detection','imgs','test', '*.jpg'))))\n",
        "x_train_size = len(x_train)\n",
        "categories_size = len(names)\n",
        "x_test_size = len(x_test)\n",
        "print('There are %s total images.\\n' % (test_files_size + x_train_size + x_test_size))\n",
        "print('There are %d training images.' % x_train_size)\n",
        "print('There are %d total training categories.' % categories_size)\n",
        "print('There are %d validation images.' % x_test_size)\n",
        "print('There are %d test images.'% test_files_size)"
      ],
      "execution_count": null,
      "outputs": [
        {
          "output_type": "stream",
          "text": [
            "There are 102150 total images.\n",
            "\n",
            "There are 17939 training images.\n",
            "There are 10 total training categories.\n",
            "There are 4485 validation images.\n",
            "There are 79726 test images.\n"
          ],
          "name": "stdout"
        }
      ]
    },
    {
      "cell_type": "code",
      "metadata": {
        "trusted": true,
        "id": "8ptvg1ItC-AK",
        "colab_type": "code",
        "colab": {},
        "outputId": "ff41643e-4803-4abd-c04f-c7a146a21a07"
      },
      "source": [
        "plt.figure(figsize = (10,10))\n",
        "sns.countplot(x = 'classname', data = dataset)\n",
        "plt.ylabel('Count')\n",
        "plt.title('Categories Distribution')\n",
        "\n",
        "plt.show()"
      ],
      "execution_count": null,
      "outputs": [
        {
          "output_type": "display_data",
          "data": {
            "text/plain": [
              "<Figure size 720x720 with 1 Axes>"
            ],
            "image/png": "[encoded data removed]"
          },
          "metadata": {
            "tags": [],
            "needs_background": "light"
          }
        }
      ]
    },
    {
      "cell_type": "code",
      "metadata": {
        "trusted": true,
        "id": "J9yK_-0KC-AR",
        "colab_type": "code",
        "colab": {},
        "outputId": "dbffe869-507d-4cdb-9222-ae141131c565"
      },
      "source": [
        "drivers_id = pd.DataFrame((dataset['subject'].value_counts()).reset_index())\n",
        "drivers_id.columns = ['driver_id', 'Counts']\n",
        "drivers_id"
      ],
      "execution_count": null,
      "outputs": [
        {
          "output_type": "execute_result",
          "data": {
            "text/plain": [
              "   driver_id  Counts\n",
              "0       p021    1237\n",
              "1       p022    1233\n",
              "2       p024    1226\n",
              "3       p026    1196\n",
              "4       p016    1078\n",
              "5       p066    1034\n",
              "6       p049    1011\n",
              "7       p051     920\n",
              "8       p014     876\n",
              "9       p015     875\n",
              "10      p035     848\n",
              "11      p047     835\n",
              "12      p012     823\n",
              "13      p081     823\n",
              "14      p064     820\n",
              "15      p075     814\n",
              "16      p061     809\n",
              "17      p056     794\n",
              "18      p050     790\n",
              "19      p052     740\n",
              "20      p002     725\n",
              "21      p045     724\n",
              "22      p039     651\n",
              "23      p041     605\n",
              "24      p042     591\n",
              "25      p072     346"
            ],
            "text/html": [
              "<div>\n",
              "<style scoped>\n",
              "    .dataframe tbody tr th:only-of-type {\n",
              "        vertical-align: middle;\n",
              "    }\n",
              "\n",
              "    .dataframe tbody tr th {\n",
              "        vertical-align: top;\n",
              "    }\n",
              "\n",
              "    .dataframe thead th {\n",
              "        text-align: right;\n",
              "    }\n",
              "</style>\n",
              "<table border=\"1\" class=\"dataframe\">\n",
              "  <thead>\n",
              "    <tr style=\"text-align: right;\">\n",
              "      <th></th>\n",
              "      <th>driver_id</th>\n",
              "      <th>Counts</th>\n",
              "    </tr>\n",
              "  </thead>\n",
              "  <tbody>\n",
              "    <tr>\n",
              "      <th>0</th>\n",
              "      <td>p021</td>\n",
              "      <td>1237</td>\n",
              "    </tr>\n",
              "    <tr>\n",
              "      <th>1</th>\n",
              "      <td>p022</td>\n",
              "      <td>1233</td>\n",
              "    </tr>\n",
              "    <tr>\n",
              "      <th>2</th>\n",
              "      <td>p024</td>\n",
              "      <td>1226</td>\n",
              "    </tr>\n",
              "    <tr>\n",
              "      <th>3</th>\n",
              "      <td>p026</td>\n",
              "      <td>1196</td>\n",
              "    </tr>\n",
              "    <tr>\n",
              "      <th>4</th>\n",
              "      <td>p016</td>\n",
              "      <td>1078</td>\n",
              "    </tr>\n",
              "    <tr>\n",
              "      <th>5</th>\n",
              "      <td>p066</td>\n",
              "      <td>1034</td>\n",
              "    </tr>\n",
              "    <tr>\n",
              "      <th>6</th>\n",
              "      <td>p049</td>\n",
              "      <td>1011</td>\n",
              "    </tr>\n",
              "    <tr>\n",
              "      <th>7</th>\n",
              "      <td>p051</td>\n",
              "      <td>920</td>\n",
              "    </tr>\n",
              "    <tr>\n",
              "      <th>8</th>\n",
              "      <td>p014</td>\n",
              "      <td>876</td>\n",
              "    </tr>\n",
              "    <tr>\n",
              "      <th>9</th>\n",
              "      <td>p015</td>\n",
              "      <td>875</td>\n",
              "    </tr>\n",
              "    <tr>\n",
              "      <th>10</th>\n",
              "      <td>p035</td>\n",
              "      <td>848</td>\n",
              "    </tr>\n",
              "    <tr>\n",
              "      <th>11</th>\n",
              "      <td>p047</td>\n",
              "      <td>835</td>\n",
              "    </tr>\n",
              "    <tr>\n",
              "      <th>12</th>\n",
              "      <td>p012</td>\n",
              "      <td>823</td>\n",
              "    </tr>\n",
              "    <tr>\n",
              "      <th>13</th>\n",
              "      <td>p081</td>\n",
              "      <td>823</td>\n",
              "    </tr>\n",
              "    <tr>\n",
              "      <th>14</th>\n",
              "      <td>p064</td>\n",
              "      <td>820</td>\n",
              "    </tr>\n",
              "    <tr>\n",
              "      <th>15</th>\n",
              "      <td>p075</td>\n",
              "      <td>814</td>\n",
              "    </tr>\n",
              "    <tr>\n",
              "      <th>16</th>\n",
              "      <td>p061</td>\n",
              "      <td>809</td>\n",
              "    </tr>\n",
              "    <tr>\n",
              "      <th>17</th>\n",
              "      <td>p056</td>\n",
              "      <td>794</td>\n",
              "    </tr>\n",
              "    <tr>\n",
              "      <th>18</th>\n",
              "      <td>p050</td>\n",
              "      <td>790</td>\n",
              "    </tr>\n",
              "    <tr>\n",
              "      <th>19</th>\n",
              "      <td>p052</td>\n",
              "      <td>740</td>\n",
              "    </tr>\n",
              "    <tr>\n",
              "      <th>20</th>\n",
              "      <td>p002</td>\n",
              "      <td>725</td>\n",
              "    </tr>\n",
              "    <tr>\n",
              "      <th>21</th>\n",
              "      <td>p045</td>\n",
              "      <td>724</td>\n",
              "    </tr>\n",
              "    <tr>\n",
              "      <th>22</th>\n",
              "      <td>p039</td>\n",
              "      <td>651</td>\n",
              "    </tr>\n",
              "    <tr>\n",
              "      <th>23</th>\n",
              "      <td>p041</td>\n",
              "      <td>605</td>\n",
              "    </tr>\n",
              "    <tr>\n",
              "      <th>24</th>\n",
              "      <td>p042</td>\n",
              "      <td>591</td>\n",
              "    </tr>\n",
              "    <tr>\n",
              "      <th>25</th>\n",
              "      <td>p072</td>\n",
              "      <td>346</td>\n",
              "    </tr>\n",
              "  </tbody>\n",
              "</table>\n",
              "</div>"
            ]
          },
          "metadata": {
            "tags": []
          },
          "execution_count": 36
        }
      ]
    },
    {
      "cell_type": "code",
      "metadata": {
        "trusted": true,
        "id": "KJ5a3ca4C-AY",
        "colab_type": "code",
        "colab": {}
      },
      "source": [
        "def create_submission(predictions, test_id, info):\n",
        "    result = pd.DataFrame(predictions, columns=['c0', 'c1', 'c2', 'c3', 'c4', 'c5', 'c6', 'c7', 'c8', 'c9'])\n",
        "    result.loc[:, 'img'] = pd.Series(test_id, index=result.index)\n",
        "    \n",
        "    now = datetime.datetime.now()\n",
        "    \n",
        "    if not os.path.isdir('kaggle_submissions'):\n",
        "        os.mkdir('kaggle_submissions')\n",
        "\n",
        "    suffix = \"{}_{}\".format(info,str(now.strftime(\"%Y-%m-%d-%H-%M\")))\n",
        "    sub_file = os.path.join('kaggle_submissions', 'submission_' + suffix + '.csv')\n",
        "    \n",
        "    result.to_csv(sub_file, index=False)\n",
        "    \n",
        "    return sub_file"
      ],
      "execution_count": null,
      "outputs": []
    },
    {
      "cell_type": "code",
      "metadata": {
        "trusted": true,
        "id": "BNQlhCdvC-Af",
        "colab_type": "code",
        "colab": {}
      },
      "source": [
        "batch_size = 40\n",
        "nb_epoch = 10"
      ],
      "execution_count": null,
      "outputs": []
    },
    {
      "cell_type": "code",
      "metadata": {
        "trusted": true,
        "id": "HPuOgCJuC-Ao",
        "colab_type": "code",
        "colab": {}
      },
      "source": [
        "models_dir = \"saved_models\"\n",
        "if not os.path.exists(models_dir):\n",
        "    os.makedirs(models_dir)\n",
        "    \n",
        "checkpointer = ModelCheckpoint(filepath='saved_models/weights_best_vanilla.hdf5', \n",
        "                               monitor='val_loss', mode='min',\n",
        "                               verbose=1, save_best_only=True)\n",
        "es = EarlyStopping(monitor='val_loss', mode='min', verbose=1, patience=2)\n",
        "callbacks = [checkpointer, es]"
      ],
      "execution_count": null,
      "outputs": []
    },
    {
      "cell_type": "code",
      "metadata": {
        "trusted": true,
        "id": "mTh3KlbPC-Av",
        "colab_type": "code",
        "colab": {}
      },
      "source": [
        "def create_model():\n",
        "    # Optimised Vanilla CNN model\n",
        "    model = Sequential()\n",
        "\n",
        "    ## CNN 1\n",
        "    model.add(Conv2D(64,(5,5),activation='relu',input_shape=(img_rows, img_cols, color_type)))\n",
        "    model.add(BatchNormalization())\n",
        "    model.add(Conv2D(64,(5,5),activation='relu',padding='same'))\n",
        "    model.add(BatchNormalization(axis = 3))\n",
        "    model.add(MaxPooling2D(pool_size=(2,2),padding='same'))\n",
        "    model.add(Dropout(0.3))\n",
        "\n",
        "    ## CNN 2\n",
        "    model.add(Conv2D(32,(3,3),activation='relu',padding='same'))\n",
        "    model.add(BatchNormalization())\n",
        "    model.add(Conv2D(32,(3,3),activation='relu',padding='same'))\n",
        "    model.add(BatchNormalization(axis = 3))\n",
        "    model.add(MaxPooling2D(pool_size=(2,2),padding='same'))\n",
        "    model.add(Dropout(0.3))\n",
        "\n",
        "    ## CNN 3\n",
        "    model.add(Conv2D(128,(3,3),activation='relu',padding='same'))\n",
        "    model.add(BatchNormalization())\n",
        "    model.add(Conv2D(128,(3,3),activation='relu',padding='same'))\n",
        "    model.add(BatchNormalization(axis = 3))\n",
        "    model.add(MaxPooling2D(pool_size=(2,2),padding='same'))\n",
        "    model.add(Dropout(0.5))\n",
        "\n",
        "    ## Output\n",
        "    model.add(Flatten())\n",
        "    model.add(Dense(512,activation='relu'))\n",
        "    model.add(BatchNormalization())\n",
        "    model.add(Dropout(0.5))\n",
        "    model.add(Dense(128,activation='relu'))\n",
        "    model.add(Dropout(0.25))\n",
        "    model.add(Dense(10,activation='softmax'))\n",
        "\n",
        "    return model"
      ],
      "execution_count": null,
      "outputs": []
    },
    {
      "cell_type": "code",
      "metadata": {
        "trusted": true,
        "id": "XZFAMhM3C-A1",
        "colab_type": "code",
        "colab": {},
        "outputId": "640e57e7-2207-4aaa-c67d-cee09dc8cbd1"
      },
      "source": [
        "model = create_model()\n",
        "\n",
        "# More details about the layers\n",
        "model.summary()\n",
        "\n",
        "# Compiling the model\n",
        "model.compile(optimizer='rmsprop', loss='categorical_crossentropy', metrics=['accuracy'])"
      ],
      "execution_count": null,
      "outputs": [
        {
          "output_type": "stream",
          "text": [
            "Model: \"sequential\"\n",
            "_________________________________________________________________\n",
            "Layer (type)                 Output Shape              Param #   \n",
            "=================================================================\n",
            "conv2d (Conv2D)              (None, 60, 60, 64)        1664      \n",
            "_________________________________________________________________\n",
            "batch_normalization (BatchNo (None, 60, 60, 64)        256       \n",
            "_________________________________________________________________\n",
            "conv2d_1 (Conv2D)            (None, 60, 60, 64)        102464    \n",
            "_________________________________________________________________\n",
            "batch_normalization_1 (Batch (None, 60, 60, 64)        256       \n",
            "_________________________________________________________________\n",
            "max_pooling2d (MaxPooling2D) (None, 30, 30, 64)        0         \n",
            "_________________________________________________________________\n",
            "dropout (Dropout)            (None, 30, 30, 64)        0         \n",
            "_________________________________________________________________\n",
            "conv2d_2 (Conv2D)            (None, 30, 30, 32)        18464     \n",
            "_________________________________________________________________\n",
            "batch_normalization_2 (Batch (None, 30, 30, 32)        128       \n",
            "_________________________________________________________________\n",
            "conv2d_3 (Conv2D)            (None, 30, 30, 32)        9248      \n",
            "_________________________________________________________________\n",
            "batch_normalization_3 (Batch (None, 30, 30, 32)        128       \n",
            "_________________________________________________________________\n",
            "max_pooling2d_1 (MaxPooling2 (None, 15, 15, 32)        0         \n",
            "_________________________________________________________________\n",
            "dropout_1 (Dropout)          (None, 15, 15, 32)        0         \n",
            "_________________________________________________________________\n",
            "conv2d_4 (Conv2D)            (None, 15, 15, 128)       36992     \n",
            "_________________________________________________________________\n",
            "batch_normalization_4 (Batch (None, 15, 15, 128)       512       \n",
            "_________________________________________________________________\n",
            "conv2d_5 (Conv2D)            (None, 15, 15, 128)       147584    \n",
            "_________________________________________________________________\n",
            "batch_normalization_5 (Batch (None, 15, 15, 128)       512       \n",
            "_________________________________________________________________\n",
            "max_pooling2d_2 (MaxPooling2 (None, 8, 8, 128)         0         \n",
            "_________________________________________________________________\n",
            "dropout_2 (Dropout)          (None, 8, 8, 128)         0         \n",
            "_________________________________________________________________\n",
            "flatten (Flatten)            (None, 8192)              0         \n",
            "_________________________________________________________________\n",
            "dense (Dense)                (None, 512)               4194816   \n",
            "_________________________________________________________________\n",
            "batch_normalization_6 (Batch (None, 512)               2048      \n",
            "_________________________________________________________________\n",
            "dropout_3 (Dropout)          (None, 512)               0         \n",
            "_________________________________________________________________\n",
            "dense_1 (Dense)              (None, 128)               65664     \n",
            "_________________________________________________________________\n",
            "dropout_4 (Dropout)          (None, 128)               0         \n",
            "_________________________________________________________________\n",
            "dense_2 (Dense)              (None, 10)                1290      \n",
            "=================================================================\n",
            "Total params: 4,582,026\n",
            "Trainable params: 4,580,106\n",
            "Non-trainable params: 1,920\n",
            "_________________________________________________________________\n"
          ],
          "name": "stdout"
        }
      ]
    },
    {
      "cell_type": "code",
      "metadata": {
        "trusted": true,
        "id": "zv44cgfOC-A9",
        "colab_type": "code",
        "colab": {},
        "outputId": "63691712-43c8-49a7-d605-e1dd7b0e45d6"
      },
      "source": [
        "history = model.fit(x_train, y_train, \n",
        "          validation_data=(x_test, y_test),\n",
        "          callbacks=callbacks,\n",
        "          epochs=nb_epoch, batch_size=batch_size, verbose=1)"
      ],
      "execution_count": null,
      "outputs": [
        {
          "output_type": "stream",
          "text": [
            "Epoch 1/10\n",
            "449/449 [==============================] - ETA: 0s - loss: 1.2659 - accuracy: 0.5907\n",
            "Epoch 00001: val_loss improved from inf to 1.00246, saving model to saved_models/weights_best_vanilla.hdf5\n",
            "449/449 [==============================] - 756s 2s/step - loss: 1.2659 - accuracy: 0.5907 - val_loss: 1.0025 - val_accuracy: 0.6963\n",
            "Epoch 2/10\n",
            "449/449 [==============================] - ETA: 0s - loss: 0.3735 - accuracy: 0.8815\n",
            "Epoch 00002: val_loss improved from 1.00246 to 0.16261, saving model to saved_models/weights_best_vanilla.hdf5\n",
            "449/449 [==============================] - 757s 2s/step - loss: 0.3735 - accuracy: 0.8815 - val_loss: 0.1626 - val_accuracy: 0.9579\n",
            "Epoch 3/10\n",
            "449/449 [==============================] - ETA: 0s - loss: 0.2385 - accuracy: 0.9262\n",
            "Epoch 00003: val_loss improved from 0.16261 to 0.10467, saving model to saved_models/weights_best_vanilla.hdf5\n",
            "449/449 [==============================] - 759s 2s/step - loss: 0.2385 - accuracy: 0.9262 - val_loss: 0.1047 - val_accuracy: 0.9715\n",
            "Epoch 4/10\n",
            "449/449 [==============================] - ETA: 0s - loss: 0.1794 - accuracy: 0.9452\n",
            "Epoch 00004: val_loss improved from 0.10467 to 0.08902, saving model to saved_models/weights_best_vanilla.hdf5\n",
            "449/449 [==============================] - 807s 2s/step - loss: 0.1794 - accuracy: 0.9452 - val_loss: 0.0890 - val_accuracy: 0.9750\n",
            "Epoch 5/10\n",
            "449/449 [==============================] - ETA: 0s - loss: 0.1484 - accuracy: 0.9547\n",
            "Epoch 00005: val_loss improved from 0.08902 to 0.06575, saving model to saved_models/weights_best_vanilla.hdf5\n",
            "449/449 [==============================] - 791s 2s/step - loss: 0.1484 - accuracy: 0.9547 - val_loss: 0.0657 - val_accuracy: 0.9831\n",
            "Epoch 6/10\n",
            "449/449 [==============================] - ETA: 0s - loss: 0.1246 - accuracy: 0.9640\n",
            "Epoch 00006: val_loss did not improve from 0.06575\n",
            "449/449 [==============================] - 765s 2s/step - loss: 0.1246 - accuracy: 0.9640 - val_loss: 0.0687 - val_accuracy: 0.9831\n",
            "Epoch 7/10\n",
            "449/449 [==============================] - ETA: 0s - loss: 0.1117 - accuracy: 0.9684\n",
            "Epoch 00007: val_loss improved from 0.06575 to 0.05731, saving model to saved_models/weights_best_vanilla.hdf5\n",
            "449/449 [==============================] - 765s 2s/step - loss: 0.1117 - accuracy: 0.9684 - val_loss: 0.0573 - val_accuracy: 0.9848\n",
            "Epoch 8/10\n",
            "449/449 [==============================] - ETA: 0s - loss: 0.1076 - accuracy: 0.9698\n",
            "Epoch 00008: val_loss did not improve from 0.05731\n",
            "449/449 [==============================] - 770s 2s/step - loss: 0.1076 - accuracy: 0.9698 - val_loss: 0.0832 - val_accuracy: 0.9802\n",
            "Epoch 9/10\n",
            "449/449 [==============================] - ETA: 0s - loss: 0.0979 - accuracy: 0.9744\n",
            "Epoch 00009: val_loss did not improve from 0.05731\n",
            "449/449 [==============================] - 787s 2s/step - loss: 0.0979 - accuracy: 0.9744 - val_loss: 0.0625 - val_accuracy: 0.9851\n",
            "Epoch 00009: early stopping\n"
          ],
          "name": "stdout"
        }
      ]
    },
    {
      "cell_type": "code",
      "metadata": {
        "trusted": true,
        "id": "yTRVtjP8C-BD",
        "colab_type": "code",
        "colab": {}
      },
      "source": [
        "model.load_weights('saved_models/weights_best_vanilla.hdf5')"
      ],
      "execution_count": null,
      "outputs": []
    },
    {
      "cell_type": "code",
      "metadata": {
        "trusted": true,
        "id": "E33nnvTtC-BJ",
        "colab_type": "code",
        "colab": {}
      },
      "source": [
        "def plot_train_history(history):\n",
        "    # Summarize history for accuracy\n",
        "    plt.plot(history.history['accuracy'])\n",
        "    plt.plot(history.history['val_accuracy'])\n",
        "    plt.title('Model accuracy')\n",
        "    plt.ylabel('accuracy')\n",
        "    plt.xlabel('epoch')\n",
        "    plt.legend(['train', 'test'], loc='upper left')\n",
        "    plt.show()\n",
        "\n",
        "    # Summarize history for loss\n",
        "    plt.plot(history.history['loss'])\n",
        "    plt.plot(history.history['val_loss'])\n",
        "    plt.title('Model loss')\n",
        "    plt.ylabel('loss')\n",
        "    plt.xlabel('epoch')\n",
        "    plt.legend(['train', 'test'], loc='upper left')\n",
        "    plt.show()"
      ],
      "execution_count": null,
      "outputs": []
    },
    {
      "cell_type": "code",
      "metadata": {
        "trusted": true,
        "id": "Daie8gt-C-BQ",
        "colab_type": "code",
        "colab": {},
        "outputId": "563572ab-3c4c-4542-b9bb-62f2c1edaedb"
      },
      "source": [
        "plot_train_history(history)"
      ],
      "execution_count": null,
      "outputs": [
        {
          "output_type": "display_data",
          "data": {
            "text/plain": [
              "<Figure size 432x288 with 1 Axes>"
            ],
            "image/png": "[encoded data removed]"
          },
          "metadata": {
            "tags": [],
            "needs_background": "light"
          }
        },
        {
          "output_type": "display_data",
          "data": {
            "text/plain": [
              "<Figure size 432x288 with 1 Axes>"
            ],
            "image/png": "[encoded data removed]"
          },
          "metadata": {
            "tags": [],
            "needs_background": "light"
          }
        }
      ]
    },
    {
      "cell_type": "code",
      "metadata": {
        "trusted": true,
        "id": "beAPvI5FC-BY",
        "colab_type": "code",
        "colab": {},
        "outputId": "1d6b878a-657d-43b8-af84-3fa53754ef98"
      },
      "source": [
        "score = model.evaluate(x_test, y_test, verbose=1)\n",
        "print('Score: ', score)\n",
        "\n",
        "y_pred = model.predict(x_test, batch_size=batch_size, verbose=1)\n",
        "score = log_loss(y_test, y_pred)\n",
        "print('Score log loss:', score)"
      ],
      "execution_count": null,
      "outputs": [
        {
          "output_type": "stream",
          "text": [
            "141/141 [==============================] - 39s 277ms/step - loss: 0.0573 - accuracy: 0.9848\n",
            "Score:  [0.05730505660176277, 0.9848383665084839]\n",
            "113/113 [==============================] - 40s 353ms/step\n",
            "Score log loss: 0.0573050652012514\n"
          ],
          "name": "stdout"
        }
      ]
    },
    {
      "cell_type": "code",
      "metadata": {
        "trusted": true,
        "id": "gMXL69gdC-Bh",
        "colab_type": "code",
        "colab": {}
      },
      "source": [
        "def plot_test_class(model, test_files, image_number, color_type=1):\n",
        "    img_brute = test_files[image_number]\n",
        "    img_brute = cv2.resize(img_brute,(img_rows,img_cols))\n",
        "    plt.imshow(img_brute, cmap='gray')\n",
        "\n",
        "    new_img = img_brute.reshape(-1,img_rows,img_cols,color_type)\n",
        "\n",
        "    y_prediction = model.predict(new_img, batch_size=batch_size, verbose=1)\n",
        "    print('Y prediction: {}'.format(y_prediction))\n",
        "    print('Predicted: {}'.format(driver_activity.get('c{}'.format(np.argmax(y_prediction)))))\n",
        "    \n",
        "    plt.show()"
      ],
      "execution_count": null,
      "outputs": []
    },
    {
      "cell_type": "code",
      "metadata": {
        "trusted": true,
        "id": "7dKtl6xkC-Bn",
        "colab_type": "code",
        "colab": {},
        "outputId": "84ad3a30-cba1-4952-d69a-262d1f2e2975"
      },
      "source": [
        "plot_test_class(model, test_files, 101)"
      ],
      "execution_count": null,
      "outputs": [
        {
          "output_type": "stream",
          "text": [
            "1/1 [==============================] - 0s 2ms/step\n",
            "Y prediction: [[2.2058712e-15 1.7568137e-18 1.6266509e-14 5.0207208e-18 1.3479193e-13\n",
            "  1.8054080e-14 1.2691437e-15 1.0000000e+00 1.4886827e-12 4.9727922e-14]]\n",
            "Predicted: Reaching behind\n"
          ],
          "name": "stdout"
        },
        {
          "output_type": "display_data",
          "data": {
            "text/plain": [
              "<Figure size 432x288 with 1 Axes>"
            ],
            "image/png": "[encoded data removed]"
          },
          "metadata": {
            "tags": [],
            "needs_background": "light"
          }
        }
      ]
    },
    {
      "cell_type": "code",
      "metadata": {
        "trusted": true,
        "id": "7_tXgBl3C-Bu",
        "colab_type": "code",
        "colab": {},
        "outputId": "cfe7551d-e0c0-46be-a627-f67a80566447"
      },
      "source": [
        "plot_test_class(model, test_files, 1)"
      ],
      "execution_count": null,
      "outputs": [
        {
          "output_type": "stream",
          "text": [
            "1/1 [==============================] - 0s 2ms/step\n",
            "Y prediction: [[1.0267170e-09 1.3165032e-14 2.5944721e-10 4.9438820e-10 5.0629184e-10\n",
            "  9.9999988e-01 1.2800631e-09 2.9806382e-09 1.9902080e-09 1.1163513e-07]]\n",
            "Predicted: Operating the radio\n"
          ],
          "name": "stdout"
        },
        {
          "output_type": "display_data",
          "data": {
            "text/plain": [
              "<Figure size 432x288 with 1 Axes>"
            ],
            "image/png": "[encoded data removed]"
          },
          "metadata": {
            "tags": [],
            "needs_background": "light"
          }
        }
      ]
    },
    {
      "cell_type": "code",
      "metadata": {
        "trusted": true,
        "id": "A0IwyDSyC-B1",
        "colab_type": "code",
        "colab": {},
        "outputId": "ca47de9c-5379-4af6-a223-73efafd170bf"
      },
      "source": [
        "plot_test_class(model, test_files, 133)"
      ],
      "execution_count": null,
      "outputs": [
        {
          "output_type": "error",
          "ename": "SyntaxError",
          "evalue": "unexpected EOF while parsing (<ipython-input-60-0e615193e9ed>, line 1)",
          "traceback": [
            "\u001b[0;36m  File \u001b[0;32m\"<ipython-input-60-0e615193e9ed>\"\u001b[0;36m, line \u001b[0;32m1\u001b[0m\n\u001b[0;31m    plot_test_class(model, test_files, 133\u001b[0m\n\u001b[0m                                          ^\u001b[0m\n\u001b[0;31mSyntaxError\u001b[0m\u001b[0;31m:\u001b[0m unexpected EOF while parsing\n"
          ]
        }
      ]
    },
    {
      "cell_type": "code",
      "metadata": {
        "trusted": true,
        "id": "TnIdNnn4C-B7",
        "colab_type": "code",
        "colab": {}
      },
      "source": [
        ""
      ],
      "execution_count": null,
      "outputs": []
    }
  ]
}